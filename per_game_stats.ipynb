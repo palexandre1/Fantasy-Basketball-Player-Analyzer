{
 "cells": [
  {
   "cell_type": "code",
   "execution_count": 1,
   "id": "36b86f75",
   "metadata": {},
   "outputs": [
    {
     "name": "stdout",
     "output_type": "stream",
     "text": [
      "Loading cached season data from games_2024_25.csv\n",
      "[RETRY 1] Error fetching 0022400077: 'fantasy_points'\n",
      "[RETRY 2] Error fetching 0022400077: 'fantasy_points'\n",
      "[RETRY 3] Error fetching 0022400077: 'fantasy_points'\n"
     ]
    },
    {
     "ename": "KeyboardInterrupt",
     "evalue": "",
     "output_type": "error",
     "traceback": [
      "\u001b[31m---------------------------------------------------------------------------\u001b[39m",
      "\u001b[31mKeyError\u001b[39m                                  Traceback (most recent call last)",
      "\u001b[36mFile \u001b[39m\u001b[32m/opt/miniconda3/envs/nba-etl/lib/python3.11/site-packages/pandas/core/indexes/base.py:3812\u001b[39m, in \u001b[36mIndex.get_loc\u001b[39m\u001b[34m(self, key)\u001b[39m\n\u001b[32m   3811\u001b[39m \u001b[38;5;28;01mtry\u001b[39;00m:\n\u001b[32m-> \u001b[39m\u001b[32m3812\u001b[39m     \u001b[38;5;28;01mreturn\u001b[39;00m \u001b[38;5;28;43mself\u001b[39;49m\u001b[43m.\u001b[49m\u001b[43m_engine\u001b[49m\u001b[43m.\u001b[49m\u001b[43mget_loc\u001b[49m\u001b[43m(\u001b[49m\u001b[43mcasted_key\u001b[49m\u001b[43m)\u001b[49m\n\u001b[32m   3813\u001b[39m \u001b[38;5;28;01mexcept\u001b[39;00m \u001b[38;5;167;01mKeyError\u001b[39;00m \u001b[38;5;28;01mas\u001b[39;00m err:\n",
      "\u001b[36mFile \u001b[39m\u001b[32mpandas/_libs/index.pyx:167\u001b[39m, in \u001b[36mpandas._libs.index.IndexEngine.get_loc\u001b[39m\u001b[34m()\u001b[39m\n",
      "\u001b[36mFile \u001b[39m\u001b[32mpandas/_libs/index.pyx:196\u001b[39m, in \u001b[36mpandas._libs.index.IndexEngine.get_loc\u001b[39m\u001b[34m()\u001b[39m\n",
      "\u001b[36mFile \u001b[39m\u001b[32mpandas/_libs/hashtable_class_helper.pxi:7088\u001b[39m, in \u001b[36mpandas._libs.hashtable.PyObjectHashTable.get_item\u001b[39m\u001b[34m()\u001b[39m\n",
      "\u001b[36mFile \u001b[39m\u001b[32mpandas/_libs/hashtable_class_helper.pxi:7096\u001b[39m, in \u001b[36mpandas._libs.hashtable.PyObjectHashTable.get_item\u001b[39m\u001b[34m()\u001b[39m\n",
      "\u001b[31mKeyError\u001b[39m: 'fantasy_points'",
      "\nThe above exception was the direct cause of the following exception:\n",
      "\u001b[31mKeyError\u001b[39m                                  Traceback (most recent call last)",
      "\u001b[36mFile \u001b[39m\u001b[32m~/Desktop/Fantasy-Basketball-Player-Analyzer/extract.py:125\u001b[39m, in \u001b[36mextract_player_game_stats_for_game\u001b[39m\u001b[34m(game_id, cache_dir)\u001b[39m\n\u001b[32m    124\u001b[39m df = raw_dfs[\u001b[32m0\u001b[39m]  \u001b[38;5;66;03m# Player stats\u001b[39;00m\n\u001b[32m--> \u001b[39m\u001b[32m125\u001b[39m normalized = \u001b[43mnormalize_player_game_stats\u001b[49m\u001b[43m(\u001b[49m\u001b[43mdf\u001b[49m\u001b[43m)\u001b[49m  \u001b[38;5;66;03m# Your normalization function\u001b[39;00m\n\u001b[32m    126\u001b[39m normalized.to_csv(cache_file, index=\u001b[38;5;28;01mFalse\u001b[39;00m)\n",
      "\u001b[36mFile \u001b[39m\u001b[32m~/Desktop/Fantasy-Basketball-Player-Analyzer/transform.py:202\u001b[39m, in \u001b[36mnormalize_player_game_stats\u001b[39m\u001b[34m(raw_df)\u001b[39m\n\u001b[32m    201\u001b[39m \u001b[38;5;66;03m# Compute fantasy points\u001b[39;00m\n\u001b[32m--> \u001b[39m\u001b[32m202\u001b[39m df[\u001b[33m\"\u001b[39m\u001b[33mfantasy_points\u001b[39m\u001b[33m\"\u001b[39m] = \u001b[43mcompute_fantasy_points\u001b[49m\u001b[43m(\u001b[49m\u001b[43mdf\u001b[49m\u001b[43m)\u001b[49m\n\u001b[32m    204\u001b[39m \u001b[38;5;66;03m# Keep only columns in schema\u001b[39;00m\n",
      "\u001b[36mFile \u001b[39m\u001b[32m~/Desktop/Fantasy-Basketball-Player-Analyzer/transform.py:252\u001b[39m, in \u001b[36mcompute_fantasy_points\u001b[39m\u001b[34m(df)\u001b[39m\n\u001b[32m    251\u001b[39m \u001b[38;5;66;03m# Add bonuses\u001b[39;00m\n\u001b[32m--> \u001b[39m\u001b[32m252\u001b[39m \u001b[43mdf\u001b[49m\u001b[43m[\u001b[49m\u001b[33;43m\"\u001b[39;49m\u001b[33;43mfantasy_points\u001b[39;49m\u001b[33;43m\"\u001b[39;49m\u001b[43m]\u001b[49m += (\n\u001b[32m    253\u001b[39m     \u001b[32m5\u001b[39m * df[\u001b[33m\"\u001b[39m\u001b[33mdd\u001b[39m\u001b[33m\"\u001b[39m] + \u001b[32m10\u001b[39m * df[\u001b[33m\"\u001b[39m\u001b[33mtd\u001b[39m\u001b[33m\"\u001b[39m] + \u001b[32m600\u001b[39m * df[\u001b[33m\"\u001b[39m\u001b[33mqd\u001b[39m\u001b[33m\"\u001b[39m]\n\u001b[32m    254\u001b[39m )\n\u001b[32m    256\u001b[39m \u001b[38;5;66;03m# Drop helper columns, keep only original stats + fantasy_points\u001b[39;00m\n",
      "\u001b[36mFile \u001b[39m\u001b[32m/opt/miniconda3/envs/nba-etl/lib/python3.11/site-packages/pandas/core/frame.py:4107\u001b[39m, in \u001b[36mDataFrame.__getitem__\u001b[39m\u001b[34m(self, key)\u001b[39m\n\u001b[32m   4106\u001b[39m     \u001b[38;5;28;01mreturn\u001b[39;00m \u001b[38;5;28mself\u001b[39m._getitem_multilevel(key)\n\u001b[32m-> \u001b[39m\u001b[32m4107\u001b[39m indexer = \u001b[38;5;28;43mself\u001b[39;49m\u001b[43m.\u001b[49m\u001b[43mcolumns\u001b[49m\u001b[43m.\u001b[49m\u001b[43mget_loc\u001b[49m\u001b[43m(\u001b[49m\u001b[43mkey\u001b[49m\u001b[43m)\u001b[49m\n\u001b[32m   4108\u001b[39m \u001b[38;5;28;01mif\u001b[39;00m is_integer(indexer):\n",
      "\u001b[36mFile \u001b[39m\u001b[32m/opt/miniconda3/envs/nba-etl/lib/python3.11/site-packages/pandas/core/indexes/base.py:3819\u001b[39m, in \u001b[36mIndex.get_loc\u001b[39m\u001b[34m(self, key)\u001b[39m\n\u001b[32m   3818\u001b[39m         \u001b[38;5;28;01mraise\u001b[39;00m InvalidIndexError(key)\n\u001b[32m-> \u001b[39m\u001b[32m3819\u001b[39m     \u001b[38;5;28;01mraise\u001b[39;00m \u001b[38;5;167;01mKeyError\u001b[39;00m(key) \u001b[38;5;28;01mfrom\u001b[39;00m\u001b[38;5;250m \u001b[39m\u001b[34;01merr\u001b[39;00m\n\u001b[32m   3820\u001b[39m \u001b[38;5;28;01mexcept\u001b[39;00m \u001b[38;5;167;01mTypeError\u001b[39;00m:\n\u001b[32m   3821\u001b[39m     \u001b[38;5;66;03m# If we have a listlike key, _check_indexing_error will raise\u001b[39;00m\n\u001b[32m   3822\u001b[39m     \u001b[38;5;66;03m#  InvalidIndexError. Otherwise we fall through and re-raise\u001b[39;00m\n\u001b[32m   3823\u001b[39m     \u001b[38;5;66;03m#  the TypeError.\u001b[39;00m\n",
      "\u001b[31mKeyError\u001b[39m: 'fantasy_points'",
      "\nDuring handling of the above exception, another exception occurred:\n",
      "\u001b[31mKeyboardInterrupt\u001b[39m                         Traceback (most recent call last)",
      "\u001b[36mCell\u001b[39m\u001b[36m \u001b[39m\u001b[32mIn[1]\u001b[39m\u001b[32m, line 6\u001b[39m\n\u001b[32m      3\u001b[39m games = extract_games_by_season()\n\u001b[32m      4\u001b[39m game_ids = games[\u001b[33m\"\u001b[39m\u001b[33mgame_id\u001b[39m\u001b[33m\"\u001b[39m].unique().tolist()\n\u001b[32m----> \u001b[39m\u001b[32m6\u001b[39m player_stats = \u001b[43mextract_player_game_stats_for_season\u001b[49m\u001b[43m(\u001b[49m\u001b[43mgame_ids\u001b[49m\u001b[43m)\u001b[49m\n",
      "\u001b[36mFile \u001b[39m\u001b[32m~/Desktop/Fantasy-Basketball-Player-Analyzer/extract.py:156\u001b[39m, in \u001b[36mextract_player_game_stats_for_season\u001b[39m\u001b[34m(game_ids, cache_dir)\u001b[39m\n\u001b[32m    154\u001b[39m \u001b[38;5;28;01mfor\u001b[39;00m gid \u001b[38;5;129;01min\u001b[39;00m game_ids:\n\u001b[32m    155\u001b[39m     gid_str = \u001b[38;5;28mstr\u001b[39m(gid).zfill(\u001b[32m10\u001b[39m)  \u001b[38;5;66;03m# Ensure 10-digit string for NBA API\u001b[39;00m\n\u001b[32m--> \u001b[39m\u001b[32m156\u001b[39m     stats = \u001b[43mextract_player_game_stats_for_game\u001b[49m\u001b[43m(\u001b[49m\u001b[43mgid_str\u001b[49m\u001b[43m,\u001b[49m\u001b[43m \u001b[49m\u001b[43mcache_dir\u001b[49m\u001b[43m=\u001b[49m\u001b[43mcache_dir\u001b[49m\u001b[43m)\u001b[49m\n\u001b[32m    158\u001b[39m     \u001b[38;5;66;03m# Ensure normalization even for cached files\u001b[39;00m\n\u001b[32m    159\u001b[39m     \u001b[38;5;28;01mif\u001b[39;00m \u001b[38;5;129;01mnot\u001b[39;00m stats.empty:\n",
      "\u001b[36mFile \u001b[39m\u001b[32m~/Desktop/Fantasy-Basketball-Player-Analyzer/extract.py:134\u001b[39m, in \u001b[36mextract_player_game_stats_for_game\u001b[39m\u001b[34m(game_id, cache_dir)\u001b[39m\n\u001b[32m    132\u001b[39m     \u001b[38;5;28;01mexcept\u001b[39;00m \u001b[38;5;167;01mException\u001b[39;00m \u001b[38;5;28;01mas\u001b[39;00m e:\n\u001b[32m    133\u001b[39m         \u001b[38;5;28mprint\u001b[39m(\u001b[33mf\u001b[39m\u001b[33m\"\u001b[39m\u001b[33m[RETRY \u001b[39m\u001b[38;5;132;01m{\u001b[39;00mattempt+\u001b[32m1\u001b[39m\u001b[38;5;132;01m}\u001b[39;00m\u001b[33m] Error fetching \u001b[39m\u001b[38;5;132;01m{\u001b[39;00mgame_id\u001b[38;5;132;01m}\u001b[39;00m\u001b[33m: \u001b[39m\u001b[38;5;132;01m{\u001b[39;00me\u001b[38;5;132;01m}\u001b[39;00m\u001b[33m\"\u001b[39m)\n\u001b[32m--> \u001b[39m\u001b[32m134\u001b[39m         \u001b[43mtime\u001b[49m\u001b[43m.\u001b[49m\u001b[43msleep\u001b[49m\u001b[43m(\u001b[49m\u001b[43mdelay\u001b[49m\u001b[43m)\u001b[49m\n\u001b[32m    135\u001b[39m         delay *= \u001b[32m2\u001b[39m  \u001b[38;5;66;03m# Exponential backoff\u001b[39;00m\n\u001b[32m    137\u001b[39m \u001b[38;5;66;03m# After all retries failed\u001b[39;00m\n",
      "\u001b[31mKeyboardInterrupt\u001b[39m: "
     ]
    }
   ],
   "source": [
    "from extract import extract_games_by_season, extract_player_game_stats_for_season\n",
    "\n",
    "games = extract_games_by_season()\n",
    "game_ids = games[\"game_id\"].unique().tolist()\n",
    "\n",
    "player_stats = extract_player_game_stats_for_season(game_ids)"
   ]
  }
 ],
 "metadata": {
  "kernelspec": {
   "display_name": "nba-etl",
   "language": "python",
   "name": "python3"
  },
  "language_info": {
   "codemirror_mode": {
    "name": "ipython",
    "version": 3
   },
   "file_extension": ".py",
   "mimetype": "text/x-python",
   "name": "python",
   "nbconvert_exporter": "python",
   "pygments_lexer": "ipython3",
   "version": "3.11.13"
  }
 },
 "nbformat": 4,
 "nbformat_minor": 5
}
