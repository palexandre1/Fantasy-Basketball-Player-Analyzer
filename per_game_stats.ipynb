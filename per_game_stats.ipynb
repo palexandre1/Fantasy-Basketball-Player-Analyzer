{
 "cells": [
  {
   "cell_type": "code",
   "execution_count": null,
   "id": "36b86f75",
   "metadata": {},
   "outputs": [],
   "source": [
    "from extract import extract_games_by_season, extract_player_game_stats_for_season\n",
    "\n",
    "games = extract_games_by_season()\n",
    "game_ids = games[\"game_id\"].unique().tolist()\n",
    "\n",
    "player_stats = extract_player_game_stats_for_season(game_ids)"
   ]
  }
 ],
 "metadata": {
  "kernelspec": {
   "display_name": "nba-etl",
   "language": "python",
   "name": "python3"
  },
  "language_info": {
   "codemirror_mode": {
    "name": "ipython",
    "version": 3
   },
   "file_extension": ".py",
   "mimetype": "text/x-python",
   "name": "python",
   "nbconvert_exporter": "python",
   "pygments_lexer": "ipython3",
   "version": "3.11.13"
  }
 },
 "nbformat": 4,
 "nbformat_minor": 5
}
