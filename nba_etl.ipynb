{
 "cells": [
  {
   "cell_type": "code",
   "execution_count": 1,
   "id": "bcd9f5ab",
   "metadata": {},
   "outputs": [
    {
     "name": "stdout",
     "output_type": "stream",
     "text": [
      "Reading player positions from cache player_positions.json\n",
      "Reading player positions from cache player_heights.json\n"
     ]
    }
   ],
   "source": [
    "from extract import extract_player_stats, get_player_positions, get_player_heights\n",
    "from transform import transform_players, transform_teams, transform_player_stats\n",
    "\n",
    "# Step 1: Extract player stats\n",
    "raw_df = extract_player_stats()\n",
    "\n",
    "# Step 2: Get unique player_ids\n",
    "player_ids = raw_df[\"PLAYER_ID\"].unique().tolist()\n",
    "\n",
    "# Step 3: Fetch or load positions, heights\n",
    "positions = get_player_positions(player_ids)\n",
    "heights = get_player_heights(player_ids)\n",
    "\n",
    "# Step 4: Enrich DataFrame with positions, heights\n",
    "player_df = transform_players(raw_df)\n",
    "player_df[\"position\"] = player_df[\"player_id\"].map(positions)\n",
    "player_df[\"height\"] = player_df[\"player_id\"].map(heights)\n",
    "\n",
    "# player_stats_df = transform_player_stats(raw_df)"
   ]
  }
 ],
 "metadata": {
  "kernelspec": {
   "display_name": "nba-etl",
   "language": "python",
   "name": "python3"
  },
  "language_info": {
   "codemirror_mode": {
    "name": "ipython",
    "version": 3
   },
   "file_extension": ".py",
   "mimetype": "text/x-python",
   "name": "python",
   "nbconvert_exporter": "python",
   "pygments_lexer": "ipython3",
   "version": "3.11.13"
  }
 },
 "nbformat": 4,
 "nbformat_minor": 5
}
