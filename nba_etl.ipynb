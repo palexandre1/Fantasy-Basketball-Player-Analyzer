{
 "cells": [
  {
   "cell_type": "code",
   "execution_count": 1,
   "id": "bcd9f5ab",
   "metadata": {},
   "outputs": [
    {
     "name": "stdout",
     "output_type": "stream",
     "text": [
      "✅ Loaded team static data from teams_static.csv\n"
     ]
    }
   ],
   "source": [
    "from extract import extract_player_stats\n",
    "from transform import transform_players, transform_teams\n",
    "\n",
    "raw_df = extract_player_stats()\n",
    "teams_df = transform_teams()\n",
    "player_df = transform_players(raw_df)"
   ]
  }
 ],
 "metadata": {
  "kernelspec": {
   "display_name": "nba-etl",
   "language": "python",
   "name": "python3"
  },
  "language_info": {
   "codemirror_mode": {
    "name": "ipython",
    "version": 3
   },
   "file_extension": ".py",
   "mimetype": "text/x-python",
   "name": "python",
   "nbconvert_exporter": "python",
   "pygments_lexer": "ipython3",
   "version": "3.11.13"
  }
 },
 "nbformat": 4,
 "nbformat_minor": 5
}
